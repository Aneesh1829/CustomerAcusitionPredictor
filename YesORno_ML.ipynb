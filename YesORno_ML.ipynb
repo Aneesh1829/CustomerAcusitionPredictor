{
 "cells": [
  {
   "cell_type": "code",
   "execution_count": 1,
   "id": "5c2b1ed4-74cf-4322-8e72-bc2b1e5c35a1",
   "metadata": {},
   "outputs": [],
   "source": [
    "import numpy as np\n",
    "import tensorflow as tf"
   ]
  },
  {
   "cell_type": "code",
   "execution_count": 5,
   "id": "b2f4a300-c397-462e-9011-cfb99675a2b7",
   "metadata": {},
   "outputs": [],
   "source": [
    "\n",
    "\n",
    "\n",
    "npz = np.load('Audiobook_train.npz')\n",
    "train_inputs = npz['inputs'].astype(np.float32)\n",
    "train_targets = npz['targets'].astype(np.int32)\n",
    "\n",
    "\n",
    "npz = np.load('Audiobook_validate.npz')\n",
    "validation_inputs = npz['inputs'].astype(np.float32)\n",
    "validation_targets = npz['targets'].astype(np.int32)\n",
    "\n",
    "\n",
    "npz = np.load('Audiobook_test.npz')\n",
    "test_inputs = npz['inputs'].astype(np.float32)\n",
    "test_targets = npz['targets'].astype(np.int32)\n"
   ]
  },
  {
   "cell_type": "markdown",
   "id": "a67d0b87-acd1-4b91-aff5-bef6736df415",
   "metadata": {},
   "source": [
    "## Model"
   ]
  },
  {
   "cell_type": "code",
   "execution_count": 16,
   "id": "4d842d73-a97e-4d3f-a306-06396082becc",
   "metadata": {
    "scrolled": true
   },
   "outputs": [
    {
     "name": "stdout",
     "output_type": "stream",
     "text": [
      "Epoch 1/100\n",
      "36/36 - 1s - 40ms/step - accuracy: 0.6644 - loss: 0.6007 - val_accuracy: 0.6868 - val_loss: 0.5456\n",
      "Epoch 2/100\n",
      "36/36 - 0s - 5ms/step - accuracy: 0.7505 - loss: 0.4723 - val_accuracy: 0.7383 - val_loss: 0.4663\n",
      "Epoch 3/100\n",
      "36/36 - 0s - 6ms/step - accuracy: 0.7731 - loss: 0.4213 - val_accuracy: 0.7472 - val_loss: 0.4279\n",
      "Epoch 4/100\n",
      "36/36 - 0s - 5ms/step - accuracy: 0.7882 - loss: 0.3941 - val_accuracy: 0.7830 - val_loss: 0.4076\n",
      "Epoch 5/100\n",
      "36/36 - 0s - 5ms/step - accuracy: 0.7969 - loss: 0.3790 - val_accuracy: 0.8009 - val_loss: 0.3916\n",
      "Epoch 6/100\n",
      "36/36 - 0s - 5ms/step - accuracy: 0.7983 - loss: 0.3707 - val_accuracy: 0.7942 - val_loss: 0.3855\n",
      "Epoch 7/100\n",
      "36/36 - 0s - 5ms/step - accuracy: 0.8047 - loss: 0.3620 - val_accuracy: 0.8143 - val_loss: 0.3713\n",
      "Epoch 8/100\n",
      "36/36 - 0s - 6ms/step - accuracy: 0.8047 - loss: 0.3563 - val_accuracy: 0.7942 - val_loss: 0.3690\n",
      "Epoch 9/100\n",
      "36/36 - 0s - 5ms/step - accuracy: 0.8033 - loss: 0.3525 - val_accuracy: 0.7740 - val_loss: 0.3835\n",
      "Epoch 10/100\n",
      "36/36 - 0s - 5ms/step - accuracy: 0.8072 - loss: 0.3466 - val_accuracy: 0.8210 - val_loss: 0.3601\n",
      "Epoch 11/100\n",
      "36/36 - 0s - 5ms/step - accuracy: 0.8114 - loss: 0.3429 - val_accuracy: 0.7808 - val_loss: 0.3657\n",
      "Epoch 12/100\n",
      "36/36 - 0s - 5ms/step - accuracy: 0.8139 - loss: 0.3409 - val_accuracy: 0.8166 - val_loss: 0.3538\n",
      "Epoch 13/100\n",
      "36/36 - 0s - 5ms/step - accuracy: 0.8139 - loss: 0.3398 - val_accuracy: 0.8210 - val_loss: 0.3511\n",
      "Epoch 14/100\n",
      "36/36 - 0s - 5ms/step - accuracy: 0.8142 - loss: 0.3369 - val_accuracy: 0.7897 - val_loss: 0.3595\n",
      "Epoch 15/100\n",
      "36/36 - 0s - 6ms/step - accuracy: 0.8201 - loss: 0.3369 - val_accuracy: 0.8054 - val_loss: 0.3521\n"
     ]
    },
    {
     "data": {
      "text/plain": [
       "<keras.src.callbacks.history.History at 0x26035f2b280>"
      ]
     },
     "execution_count": 16,
     "metadata": {},
     "output_type": "execute_result"
    }
   ],
   "source": [
    "\n",
    "\n",
    "input_size = 10\n",
    "output_size = 2\n",
    "hidden_layer_size = 50\n",
    "\n",
    "model = tf.keras.Sequential([\n",
    "    tf.keras.layers.Dense(hidden_layer_size, activation='relu', input_shape=(input_size,)),\n",
    "    tf.keras.layers.Dense(hidden_layer_size, activation='relu'),\n",
    "    tf.keras.layers.Dense(output_size, activation='softmax')\n",
    "])\n",
    "\n",
    "model.compile(optimizer='adam',\n",
    "              loss='sparse_categorical_crossentropy',\n",
    "              metrics=['accuracy'])\n",
    "\n",
    "batch_size = 100\n",
    "max_epochs = 100\n",
    "\n",
    "\n",
    "early_stopping = tf.keras.callbacks.EarlyStopping(patience=2, restore_best_weights=True)\n",
    "\n",
    "model.fit(train_inputs,\n",
    "          train_targets,\n",
    "          batch_size=batch_size,\n",
    "          epochs=max_epochs,\n",
    "          callbacks=[early_stopping], \n",
    "          validation_data=(validation_inputs, validation_targets),\n",
    "          verbose=2)\n"
   ]
  },
  {
   "cell_type": "markdown",
   "id": "2cf20ef0-13a0-4adb-bf8f-80f1d9e0a806",
   "metadata": {},
   "source": [
    "## Testing"
   ]
  },
  {
   "cell_type": "code",
   "execution_count": 17,
   "id": "0242d78a-6f21-4ca7-8a03-f3ae3ac47c2b",
   "metadata": {},
   "outputs": [
    {
     "name": "stdout",
     "output_type": "stream",
     "text": [
      "\u001b[1m14/14\u001b[0m \u001b[32m━━━━━━━━━━━━━━━━━━━━\u001b[0m\u001b[37m\u001b[0m \u001b[1m0s\u001b[0m 4ms/step - accuracy: 0.8218 - loss: 0.3057 \n"
     ]
    }
   ],
   "source": [
    "test_loss , test_accurary = model.evaluate(test_inputs,test_targets)"
   ]
  },
  {
   "cell_type": "code",
   "execution_count": null,
   "id": "ca8ad6c0-f67d-43a7-b8d9-307fb4ed2b46",
   "metadata": {},
   "outputs": [],
   "source": []
  }
 ],
 "metadata": {
  "kernelspec": {
   "display_name": "Python [conda env:tfenv]",
   "language": "python",
   "name": "conda-env-tfenv-py"
  },
  "language_info": {
   "codemirror_mode": {
    "name": "ipython",
    "version": 3
   },
   "file_extension": ".py",
   "mimetype": "text/x-python",
   "name": "python",
   "nbconvert_exporter": "python",
   "pygments_lexer": "ipython3",
   "version": "3.10.18"
  }
 },
 "nbformat": 4,
 "nbformat_minor": 5
}
