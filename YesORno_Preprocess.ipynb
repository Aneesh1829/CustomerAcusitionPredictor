{
 "cells": [
  {
   "cell_type": "code",
   "execution_count": 8,
   "id": "4e0b12b4-65e5-407d-a814-43ee236aa623",
   "metadata": {},
   "outputs": [],
   "source": [
    "import numpy as np\n",
    "from sklearn import preprocessing\n",
    "\n",
    "raw_csv = np.loadtxt(r\"C:\\Users\\anees\\Downloads\\Audiobooks_data.csv\",delimiter = ',')\n",
    "unscaled_inputs = raw_csv[:,1:-1]\n",
    "targets_all = raw_csv[:,-1]"
   ]
  },
  {
   "cell_type": "markdown",
   "id": "b80f5c25-7e8e-4e44-a4b3-59262e9ab691",
   "metadata": {},
   "source": [
    "## Balance the dataset"
   ]
  },
  {
   "cell_type": "code",
   "execution_count": 10,
   "id": "2e2fc999-4fce-4e0a-9c60-7208375ceae2",
   "metadata": {},
   "outputs": [],
   "source": [
    "num_one = int(np.sum(targets_all))\n",
    "zero_targets = 0\n",
    "indices_to_remove = []\n",
    "\n",
    "for i in range(targets_all.shape[0]):\n",
    "    if targets_all[i] == 0:\n",
    "        zero_targets +=1\n",
    "        if zero_targets > num_one:\n",
    "            indices_to_remove.append(i)\n",
    "\n",
    "unscaled_inputs_equal_prior = np.delete(unscaled_inputs,indices_to_remove,axis=0)\n",
    "targets_equal_prior = np.delete(targets_all,indices_to_remove,axis=0)\n"
   ]
  },
  {
   "cell_type": "markdown",
   "id": "974ddec4-2b22-41c6-9070-ecdd8dd27906",
   "metadata": {},
   "source": [
    "## Standardasing the inputs"
   ]
  },
  {
   "cell_type": "code",
   "execution_count": 11,
   "id": "ced4aff9-902a-4f47-9c64-ef8fa4c7efb4",
   "metadata": {},
   "outputs": [],
   "source": [
    "scaled_inputs = preprocessing.scale(unscaled_inputs_equal_prior)"
   ]
  },
  {
   "cell_type": "markdown",
   "id": "cf24f124-0df7-4c59-bd7b-58cf52bcc290",
   "metadata": {},
   "source": [
    "## Shuffle the data"
   ]
  },
  {
   "cell_type": "code",
   "execution_count": 15,
   "id": "af0f2f1b-b2d2-409f-b45c-c0b81139e8f3",
   "metadata": {},
   "outputs": [],
   "source": [
    "shuffled_indices = np.arange(scaled_inputs.shape[0])\n",
    "np.random.shuffle(shuffled_indices)\n",
    "shuffled_inputs = scaled_inputs[shuffled_indices]\n",
    "shuffled_targets = targets_equal_prior[shuffled_indices]\n"
   ]
  },
  {
   "cell_type": "markdown",
   "id": "3055ac8c-2092-4809-854f-46a63630107b",
   "metadata": {},
   "source": [
    "## spilt data into train validate and test"
   ]
  },
  {
   "cell_type": "code",
   "execution_count": 22,
   "id": "8cda057e-4405-4823-acaa-2d5a4eb12938",
   "metadata": {},
   "outputs": [],
   "source": [
    "samples_count = shuffled_inputs.shape[0]\n",
    "\n",
    "train_samples_count = int(0.8*samples_count)\n",
    "validation_samples_count = int(0.1*samples_count)\n",
    "test_samples_count = train_samples_count-validation_samples_count\n",
    "\n",
    "train_inputs = shuffled_inputs[:train_samples_count]\n",
    "train_targets = shuffled_targets[:train_samples_count]\n",
    "\n",
    "validation_inputs = shuffled_inputs[train_samples_count:train_samples_count+validation_samples_count]\n",
    "validation_targets = shuffled_targets[train_samples_count:train_samples_count+validation_samples_count]\n",
    "\n",
    "test_inputs = shuffled_inputs[train_samples_count+validation_samples_count:]\n",
    "test_targets = shuffled_targets[train_samples_count+validation_samples_count:]\n",
    "\n",
    "\n",
    "\n"
   ]
  },
  {
   "cell_type": "markdown",
   "id": "ddf7e0d7-ba51-4659-9125-0e71ef75bd03",
   "metadata": {},
   "source": [
    "## Save the three datasets in .npz"
   ]
  },
  {
   "cell_type": "code",
   "execution_count": 23,
   "id": "ca01f52f-b3b1-42a9-adbb-dbb47130ea82",
   "metadata": {},
   "outputs": [],
   "source": [
    "np.savez('Audiobook_train',inputs = train_inputs,targets=train_targets)\n",
    "np.savez('Audiobook_validate',inputs = validation_inputs,targets=validation_targets)\n",
    "np.savez('Audiobook_test',inputs = test_inputs,targets=test_targets)"
   ]
  },
  {
   "cell_type": "markdown",
   "id": "559dac14-2ed8-4266-8d7a-f4239078e30b",
   "metadata": {},
   "source": [
    "## Model"
   ]
  },
  {
   "cell_type": "code",
   "execution_count": null,
   "id": "a03ef4b1-4a88-4ddb-9833-cadef8ee87ba",
   "metadata": {},
   "outputs": [],
   "source": []
  },
  {
   "cell_type": "code",
   "execution_count": null,
   "id": "316c6aa1-6c65-44c5-97a2-ffb8b389baf3",
   "metadata": {},
   "outputs": [],
   "source": []
  }
 ],
 "metadata": {
  "kernelspec": {
   "display_name": "Python [conda env:tfenv]",
   "language": "python",
   "name": "conda-env-tfenv-py"
  },
  "language_info": {
   "codemirror_mode": {
    "name": "ipython",
    "version": 3
   },
   "file_extension": ".py",
   "mimetype": "text/x-python",
   "name": "python",
   "nbconvert_exporter": "python",
   "pygments_lexer": "ipython3",
   "version": "3.10.18"
  }
 },
 "nbformat": 4,
 "nbformat_minor": 5
}
